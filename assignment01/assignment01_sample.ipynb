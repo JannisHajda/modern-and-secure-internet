{
 "cells": [
  {
   "cell_type": "markdown",
   "id": "06b773e4-c217-4b01-8b74-3e1f3e70fbe6",
   "metadata": {},
   "source": [
    "![WireGuard Logo](https://www.wireguard.com/img/wireguard.svg)"
   ]
  },
  {
   "cell_type": "markdown",
   "id": "e1bb1cec-13cd-47fa-8047-8c395e403415",
   "metadata": {},
   "source": [
    "### 1. Install/import necessary libraries\n",
    "First, we need to install the WireGuard package on both the server and client to handle WireGuard configuration and key management.\n",
    "\n",
    "```bash\n",
    "# Install WireGuard package for managing VPN\n",
    "sudo apt install wireguard\n",
    "```\n",
    "\n",
    "If we want to configure WireGuard using Python, we additionally need to install the `python-wireguard` package.\n",
    "\n",
    "```bash\n",
    "pip install python-wireguard\n",
    "```"
   ]
  },
  {
   "cell_type": "markdown",
   "id": "6cdc6158-27d5-493b-bf3f-25b7c2855639",
   "metadata": {},
   "source": [
    "### 2. Generate WireGuard keys (as needed)\n",
    "To establish a secure connection, we need to generate a public-private key pair on both the server and client:\n",
    "- The private key remains secret on each device.\n",
    "- The public key is shared with the other device to establish a secure connection.\n",
    "\n",
    "Using bash:\n",
    "```bash\n",
    "# Generate private key and immediately pipe it to create the public key\n",
    "wg genkey | tee privatekey | wg pubkey > publickey\n",
    "```\n",
    "\n",
    "Using Python with the `python-wireguard` library:\n",
    "```python\n",
    "# Import Key class from python_wireguard to generate keys in Python\n",
    "from python_wireguard import Key\n",
    "\n",
    "# Generate private and public key pair for WireGuard\n",
    "private, public = Key.key_pair()\n",
    "```"
   ]
  },
  {
   "cell_type": "markdown",
   "id": "ff460a78-f69b-42d2-a589-fde96beafd9d",
   "metadata": {},
   "source": [
    "### 3. Set up WireGuard Server (or/and use a WireGuard test server)\n",
    "Manual Configuration in `/etc/wireguard/wg0.conf`:\n",
    "\n",
    "```bash\n",
    "# WireGuard server configuration\n",
    "\n",
    "[Interface]\n",
    "# Server IP and subnet for VPN\n",
    "Address = 10.0.0.1/24\n",
    "ListenPort = 51820\n",
    "PrivateKey = <server-private-key> # Replace with server's private key\n",
    "\n",
    "[Peer]\n",
    "PublicKey = <client-public-key> # Replace with client's public key\n",
    "# Allow only the client IP to connect\n",
    "AllowedIPs = 10.0.0.2/32\n",
    "```\n",
    "\n",
    "Using `python-wireguard` to configure the server:\n",
    "```python\n",
    "# Import necessary classes to set up server configuration in Python\n",
    "from python_wireguard import Server, ClientConnection\n",
    "\n",
    "# Create and enable WireGuard server with interface name, private key, IP, and port\n",
    "server = Server(\"wg0\", private, \"10.0.0.1/24\", 51820)\n",
    "server.enable()\n",
    "\n",
    "# Set up client connection with client's public key and IP\n",
    "client_public_key = Key(\"<client-public-key>\")\n",
    "client_ip = \"10.0.0.2\"\n",
    "conn = ClientConnection(client_public_key, client_ip)\n",
    "\n",
    "# Add client connection to the server\n",
    "server.add_client(conn)\n",
    "```"
   ]
  },
  {
   "cell_type": "markdown",
   "id": "42266281-e3d3-4d1a-b4ca-dc0b53490826",
   "metadata": {},
   "source": [
    "### 4. Set up the client connection\n",
    "Manual Configuration in `/etc/wireguard/wg0.conf`:\n",
    "\n",
    "```bash\n",
    "# WireGuard client configuration\n",
    "\n",
    "[Interface]\n",
    "# Client IP and subnet for VPN (needs to match the server's AllowedIPs)\n",
    "Address = 10.0.0.2/24\n",
    "PrivateKey = <client-private-key> \n",
    "\n",
    "[Peer]\n",
    "PublicKey = <server-public-key> \n",
    "# Allowed IP range to be routed through the VPN tunnel (e.g., 0.0.0.0/0 for all traffic)\n",
    "AllowedIPs = 10.0.0.1/32\n",
    "# Server's public IP and the WireGuard listening port\n",
    "Endpoint = 89.58.29.203:51820\n",
    "# Keep the connection alive, especially if NAT or firewall is in use\n",
    "PersistentKeepalive = 30\n",
    "```\n",
    "\n",
    "Using `python-wireguard` to configure the client:\n",
    "```python\n",
    "from python_wireguard import Client, ServerConnection, Key\n",
    "\n",
    "# Create WireGuard client with interface name, private key, and IP (needs to match servers client_ip)\n",
    "client = Client(\"wg0\", private, \"10.0.0.2/24\")\n",
    "\n",
    "# Define server connection details\n",
    "server_public_key = Key(\"<server-public-key>\")\n",
    "server_ip = \"89.58.29.203\"\n",
    "server_port = 51820\n",
    "\n",
    "# Set up server connection in client configuration\n",
    "server_conn = ServerConnection(server_public_key, server_ip, server_port)\n",
    "client.set_server(server_conn)\n",
    "```"
   ]
  },
  {
   "cell_type": "markdown",
   "id": "1a303a12-7110-4406-83cb-e541acdf1260",
   "metadata": {},
   "source": [
    "### 5. Connect the client to the server (WireGuard)\n",
    "Once both configurations are ready, start the WireGuard connection on both the server and the client:\n",
    "\n",
    "Using Command Line (on both server and client):\n",
    "```bash\n",
    "# Bring up the WireGuard interface and establish the connection\n",
    "wg-quick up wg0\n",
    "```\n",
    "\n",
    "Using `python-wireguard` (on the client):\n",
    "```python\n",
    "client.connect()\n",
    "```"
   ]
  },
  {
   "cell_type": "markdown",
   "id": "77f131d5-fcb9-4a73-9a00-7ce8edc88cd8",
   "metadata": {},
   "source": [
    "6. Caputer network packets"
   ]
  },
  {
   "cell_type": "markdown",
   "id": "8a1381af-5839-47c8-9ace-1a5124f36874",
   "metadata": {},
   "source": [
    "7. Save captured network packets"
   ]
  },
  {
   "cell_type": "markdown",
   "id": "833d54ce-00e0-4dda-a9d6-adbab95a178b",
   "metadata": {},
   "source": [
    "8. Analyze captured network packets"
   ]
  },
  {
   "cell_type": "markdown",
   "id": "ae52ad68-3f52-46ed-8065-cc0ce661cc46",
   "metadata": {},
   "source": [
    "9. Visualize network packet data (e.g: packer protocol distribution)\n",
    "    a. Filter packets for WireGuard\n",
    "    b. Display filtered packet count"
   ]
  },
  {
   "cell_type": "markdown",
   "id": "21723b0c-2724-4339-b01f-8c5c3c579e3c",
   "metadata": {},
   "source": [
    "10. Create a dataframe to hold network packets information"
   ]
  },
  {
   "cell_type": "markdown",
   "id": "a1b07573-6995-4a92-b659-8a082287687b",
   "metadata": {},
   "source": [
    "11. Plots network packets lengths over time"
   ]
  }
 ],
 "metadata": {
  "kernelspec": {
   "display_name": "Python 3 (ipykernel)",
   "language": "python",
   "name": "python3"
  },
  "language_info": {
   "codemirror_mode": {
    "name": "ipython",
    "version": 3
   },
   "file_extension": ".py",
   "mimetype": "text/x-python",
   "name": "python",
   "nbconvert_exporter": "python",
   "pygments_lexer": "ipython3",
   "version": "3.12.3"
  }
 },
 "nbformat": 4,
 "nbformat_minor": 5
}
