{
 "cells": [
  {
   "cell_type": "code",
   "id": "initial_id",
   "metadata": {
    "collapsed": true,
    "ExecuteTime": {
     "end_time": "2024-11-13T09:38:22.482197Z",
     "start_time": "2024-11-13T09:38:21.931945Z"
    }
   },
   "source": [
    "import pandas as pd\n",
    "import subprocess\n",
    "from tqdm.auto import tqdm\n",
    "import subprocess\n",
    "from concurrent.futures import ThreadPoolExecutor, as_completed"
   ],
   "outputs": [],
   "execution_count": 1
  },
  {
   "metadata": {
    "ExecuteTime": {
     "end_time": "2024-11-13T09:38:23.039012Z",
     "start_time": "2024-11-13T09:38:23.036850Z"
    }
   },
   "cell_type": "code",
   "source": [
    "INPUT_FILE = \"./top-10k-preprocessed.csv\"\n",
    "RESULTS_FILE = \"./curl_http3_results.csv\"\n",
    "ERRORS_FILE = \"./curl_http3_errors.csv\""
   ],
   "id": "2b6e35c3090c4800",
   "outputs": [],
   "execution_count": 2
  },
  {
   "metadata": {
    "ExecuteTime": {
     "end_time": "2024-11-13T09:38:23.479858Z",
     "start_time": "2024-11-13T09:38:23.459631Z"
    }
   },
   "cell_type": "code",
   "source": [
    "df_input = pd.read_csv(INPUT_FILE)\n",
    "df_input"
   ],
   "id": "f400f7d0199b72a1",
   "outputs": [
    {
     "data": {
      "text/plain": [
       "                                    url\n",
       "0                https://www.google.com\n",
       "1             https://www.microsoft.com\n",
       "2              https://www.facebook.com\n",
       "3             https://www.amazonaws.com\n",
       "4          https://www.root-servers.net\n",
       "...                                 ...\n",
       "9995    https://www.xn--l3cb1ea6bib.com\n",
       "9996             https://www.jenkins.io\n",
       "9997               https://www.nu.or.id\n",
       "9998           https://www.doujin-y.com\n",
       "9999  https://www.greylabeldelivery.com\n",
       "\n",
       "[10000 rows x 1 columns]"
      ],
      "text/html": [
       "<div>\n",
       "<style scoped>\n",
       "    .dataframe tbody tr th:only-of-type {\n",
       "        vertical-align: middle;\n",
       "    }\n",
       "\n",
       "    .dataframe tbody tr th {\n",
       "        vertical-align: top;\n",
       "    }\n",
       "\n",
       "    .dataframe thead th {\n",
       "        text-align: right;\n",
       "    }\n",
       "</style>\n",
       "<table border=\"1\" class=\"dataframe\">\n",
       "  <thead>\n",
       "    <tr style=\"text-align: right;\">\n",
       "      <th></th>\n",
       "      <th>url</th>\n",
       "    </tr>\n",
       "  </thead>\n",
       "  <tbody>\n",
       "    <tr>\n",
       "      <th>0</th>\n",
       "      <td>https://www.google.com</td>\n",
       "    </tr>\n",
       "    <tr>\n",
       "      <th>1</th>\n",
       "      <td>https://www.microsoft.com</td>\n",
       "    </tr>\n",
       "    <tr>\n",
       "      <th>2</th>\n",
       "      <td>https://www.facebook.com</td>\n",
       "    </tr>\n",
       "    <tr>\n",
       "      <th>3</th>\n",
       "      <td>https://www.amazonaws.com</td>\n",
       "    </tr>\n",
       "    <tr>\n",
       "      <th>4</th>\n",
       "      <td>https://www.root-servers.net</td>\n",
       "    </tr>\n",
       "    <tr>\n",
       "      <th>...</th>\n",
       "      <td>...</td>\n",
       "    </tr>\n",
       "    <tr>\n",
       "      <th>9995</th>\n",
       "      <td>https://www.xn--l3cb1ea6bib.com</td>\n",
       "    </tr>\n",
       "    <tr>\n",
       "      <th>9996</th>\n",
       "      <td>https://www.jenkins.io</td>\n",
       "    </tr>\n",
       "    <tr>\n",
       "      <th>9997</th>\n",
       "      <td>https://www.nu.or.id</td>\n",
       "    </tr>\n",
       "    <tr>\n",
       "      <th>9998</th>\n",
       "      <td>https://www.doujin-y.com</td>\n",
       "    </tr>\n",
       "    <tr>\n",
       "      <th>9999</th>\n",
       "      <td>https://www.greylabeldelivery.com</td>\n",
       "    </tr>\n",
       "  </tbody>\n",
       "</table>\n",
       "<p>10000 rows × 1 columns</p>\n",
       "</div>"
      ]
     },
     "execution_count": 3,
     "metadata": {},
     "output_type": "execute_result"
    }
   ],
   "execution_count": 3
  },
  {
   "metadata": {
    "ExecuteTime": {
     "end_time": "2024-11-13T09:38:25.967715Z",
     "start_time": "2024-11-13T09:38:25.965108Z"
    }
   },
   "cell_type": "code",
   "source": [
    "metrics_keys = [\n",
    "    'time_appconnect',\n",
    "    'time_connect',\n",
    "    'time_namelookup',\n",
    "    'time_pretransfer',\n",
    "    'time_redirect',\n",
    "    'time_starttransfer',\n",
    "    'time_total',\n",
    "    'remote_ip',\n",
    "    'remote_port'\n",
    "]\n",
    "\n",
    "base_command = [\n",
    "    'curl', '--http3-only',  # Force HTTP/3\n",
    "    '-4',               # Use IPv4 only\n",
    "    '-o', '/dev/null',  # Discard the actual output, only want metrics\n",
    "    '-s',               # Silent mode, suppress curl status messages\n",
    "    '--max-time', '5',     # Set connection timeout to 5 seconds\n",
    "    '-w', \"\\\\n\".join([f\"{key}: %{{{key}}}\" for key in metrics_keys]) + \"\\\\n\"  # Get specific metrics\n",
    "]"
   ],
   "id": "afdcff7613a1c044",
   "outputs": [],
   "execution_count": 4
  },
  {
   "metadata": {
    "ExecuteTime": {
     "end_time": "2024-11-12T18:32:22.256385Z",
     "start_time": "2024-11-12T17:46:01.177855Z"
    }
   },
   "cell_type": "code",
   "source": [
    "results = []\n",
    "errors = []\n",
    "\n",
    "def process_url(row):\n",
    "    url = row['url']\n",
    "    command = base_command + [url]\n",
    "\n",
    "    try:\n",
    "        result = subprocess.run(command, capture_output=True, text=True, check=True)\n",
    "\n",
    "        metrics = {'url': url}\n",
    "        for line in result.stdout.splitlines():\n",
    "            if ': ' in line:\n",
    "                key, val = line.split(': ', 1)\n",
    "                metrics[key.strip()] = val.strip()\n",
    "\n",
    "        return metrics\n",
    "\n",
    "    except subprocess.CalledProcessError as e:\n",
    "        return {\n",
    "            'url': url,\n",
    "            'errorCode': e.returncode,\n",
    "        }\n",
    "\n",
    "with ThreadPoolExecutor(max_workers=10) as executor:\n",
    "    futures = []\n",
    "    for index, row in df_input.iterrows():\n",
    "        futures.append(executor.submit(process_url, row))\n",
    "\n",
    "    for future in tqdm(as_completed(futures), total=len(futures), desc=\"Processing URLs\", leave=True):\n",
    "        try:\n",
    "            data = future.result()\n",
    "            if 'errorCode' in data:\n",
    "                errors.append(data)\n",
    "            else:\n",
    "                results.append(data)\n",
    "        except Exception as e:\n",
    "            errors.append({\n",
    "                'url': data.get('url', 'Unknown'),\n",
    "                'errorCode': str(e),\n",
    "            })"
   ],
   "id": "2a3ff96314a69198",
   "outputs": [
    {
     "data": {
      "text/plain": [
       "Processing URLs:   0%|          | 0/10000 [00:00<?, ?it/s]"
      ],
      "application/vnd.jupyter.widget-view+json": {
       "version_major": 2,
       "version_minor": 0,
       "model_id": "5ac2bd9c6b9848e3b7cd8bb16f6274a6"
      }
     },
     "metadata": {},
     "output_type": "display_data"
    }
   ],
   "execution_count": 29
  },
  {
   "metadata": {
    "ExecuteTime": {
     "end_time": "2024-11-12T16:12:45.436564Z",
     "start_time": "2024-11-12T16:12:45.418897Z"
    }
   },
   "cell_type": "code",
   "source": [
    "df_results = pd.DataFrame(results)\n",
    "df_errors = pd.DataFrame(errors)"
   ],
   "id": "144ec494821dc72e",
   "outputs": [],
   "execution_count": 6
  },
  {
   "metadata": {
    "ExecuteTime": {
     "end_time": "2024-11-13T09:44:18.992521Z",
     "start_time": "2024-11-13T09:44:18.978042Z"
    }
   },
   "cell_type": "code",
   "source": [
    "url_order_dict = {url: idx for idx, url in enumerate(df_input['url'])}\n",
    "\n",
    "df_results['sort_order'] = df_results['url'].map(url_order_dict)\n",
    "df_results_sorted = df_results.sort_values('sort_order').drop(columns=['sort_order']).reset_index(drop=True)\n",
    "\n",
    "df_errors['sort_order'] = df_errors['url'].map(url_order_dict)\n",
    "df_errors_sorted = df_errors.sort_values('sort_order').drop(columns=['sort_order']).reset_index(drop=True)"
   ],
   "id": "8bcc779d3d7bfad6",
   "outputs": [],
   "execution_count": 14
  },
  {
   "metadata": {
    "ExecuteTime": {
     "end_time": "2024-11-13T09:44:46.987637Z",
     "start_time": "2024-11-13T09:44:46.966736Z"
    }
   },
   "cell_type": "code",
   "source": [
    "df_results_sorted.to_csv(RESULTS_FILE, index=False)\n",
    "df_errors_sorted.to_csv(ERRORS_FILE, index=False)"
   ],
   "id": "e2a73ee0c515f870",
   "outputs": [],
   "execution_count": 17
  },
  {
   "metadata": {},
   "cell_type": "code",
   "outputs": [],
   "execution_count": null,
   "source": "",
   "id": "a329f1458701a0f4"
  }
 ],
 "metadata": {
  "kernelspec": {
   "display_name": "Python 3",
   "language": "python",
   "name": "python3"
  },
  "language_info": {
   "codemirror_mode": {
    "name": "ipython",
    "version": 2
   },
   "file_extension": ".py",
   "mimetype": "text/x-python",
   "name": "python",
   "nbconvert_exporter": "python",
   "pygments_lexer": "ipython2",
   "version": "2.7.6"
  }
 },
 "nbformat": 4,
 "nbformat_minor": 5
}
