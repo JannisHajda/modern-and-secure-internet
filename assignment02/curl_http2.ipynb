{
 "cells": [
  {
   "metadata": {
    "ExecuteTime": {
     "end_time": "2024-11-13T14:00:01.387435Z",
     "start_time": "2024-11-13T14:00:01.384821Z"
    }
   },
   "cell_type": "code",
   "source": [
    "import pandas as pd\n",
    "import subprocess\n",
    "from tqdm.auto import tqdm\n",
    "from concurrent.futures import ThreadPoolExecutor, as_completed"
   ],
   "id": "b07065b8dc7bb55a",
   "outputs": [],
   "execution_count": 19
  },
  {
   "metadata": {
    "ExecuteTime": {
     "end_time": "2024-11-13T14:00:01.749466Z",
     "start_time": "2024-11-13T14:00:01.746816Z"
    }
   },
   "cell_type": "code",
   "source": [
    "INPUT_FILE = \"./curl_http3_results.csv\"\n",
    "RESULTS_FILE = \"./curl_http2_results.csv\"\n",
    "ERRORS_FILE = \"./curl_http2_errors.csv\""
   ],
   "id": "3df558e57ff21b18",
   "outputs": [],
   "execution_count": 20
  },
  {
   "metadata": {
    "ExecuteTime": {
     "end_time": "2024-11-13T14:00:02.104293Z",
     "start_time": "2024-11-13T14:00:02.092426Z"
    }
   },
   "cell_type": "code",
   "source": [
    "df_input = pd.read_csv(INPUT_FILE).head(1000)\n",
    "df_input"
   ],
   "id": "11b3b63d11c8d6f1",
   "outputs": [
    {
     "data": {
      "text/plain": [
       "                             url  time_appconnect  time_connect  \\\n",
       "0         https://www.google.com         0.115064      0.099295   \n",
       "1       https://www.facebook.com         0.092280      0.092280   \n",
       "2        https://www.youtube.com         0.088254      0.064662   \n",
       "3     https://www.googleapis.com         0.034300      0.009475   \n",
       "4      https://www.instagram.com         0.029055      0.013187   \n",
       "..                           ...              ...           ...   \n",
       "995    https://www.google.com.jm         0.227748      0.211538   \n",
       "996     https://www.repocket.com         0.043787      0.028749   \n",
       "997  https://www.thunderbird.net         0.075817      0.035113   \n",
       "998     https://www.bluecava.com         0.111648      0.111648   \n",
       "999        https://www.google.cm         0.250427      0.233947   \n",
       "\n",
       "     time_namelookup  time_pretransfer  time_redirect  time_starttransfer  \\\n",
       "0           0.080485          0.116441            0.0            0.172869   \n",
       "1           0.071201          0.098314            0.0            0.286127   \n",
       "2           0.054444          0.089367            0.0            0.174466   \n",
       "3           0.005403          0.035400            0.0            0.147281   \n",
       "4           0.004605          0.029923            0.0            0.214219   \n",
       "..               ...               ...            ...                 ...   \n",
       "995         0.192309          0.229158            0.0            0.295833   \n",
       "996         0.021327          0.044902            0.0            0.071118   \n",
       "997         0.026407          0.077077            0.0            0.573514   \n",
       "998         0.081835          0.116964            0.0            0.155698   \n",
       "999         0.212562          0.251689            0.0            0.301081   \n",
       "\n",
       "     time_total        remote_ip  remote_port  \n",
       "0      0.175498  142.251.209.132          443  \n",
       "1      0.306126   157.240.252.35          443  \n",
       "2      0.289153  142.251.209.142          443  \n",
       "3      0.147385  142.251.209.138          443  \n",
       "4      0.336100  157.240.252.174          443  \n",
       "..          ...              ...          ...  \n",
       "995    0.299376  142.250.181.195          443  \n",
       "996    0.071261    172.67.139.50          443  \n",
       "997    0.573551     172.67.74.82          443  \n",
       "998    0.155743   199.36.158.100          443  \n",
       "999    0.304149    172.217.16.67          443  \n",
       "\n",
       "[1000 rows x 10 columns]"
      ],
      "text/html": [
       "<div>\n",
       "<style scoped>\n",
       "    .dataframe tbody tr th:only-of-type {\n",
       "        vertical-align: middle;\n",
       "    }\n",
       "\n",
       "    .dataframe tbody tr th {\n",
       "        vertical-align: top;\n",
       "    }\n",
       "\n",
       "    .dataframe thead th {\n",
       "        text-align: right;\n",
       "    }\n",
       "</style>\n",
       "<table border=\"1\" class=\"dataframe\">\n",
       "  <thead>\n",
       "    <tr style=\"text-align: right;\">\n",
       "      <th></th>\n",
       "      <th>url</th>\n",
       "      <th>time_appconnect</th>\n",
       "      <th>time_connect</th>\n",
       "      <th>time_namelookup</th>\n",
       "      <th>time_pretransfer</th>\n",
       "      <th>time_redirect</th>\n",
       "      <th>time_starttransfer</th>\n",
       "      <th>time_total</th>\n",
       "      <th>remote_ip</th>\n",
       "      <th>remote_port</th>\n",
       "    </tr>\n",
       "  </thead>\n",
       "  <tbody>\n",
       "    <tr>\n",
       "      <th>0</th>\n",
       "      <td>https://www.google.com</td>\n",
       "      <td>0.115064</td>\n",
       "      <td>0.099295</td>\n",
       "      <td>0.080485</td>\n",
       "      <td>0.116441</td>\n",
       "      <td>0.0</td>\n",
       "      <td>0.172869</td>\n",
       "      <td>0.175498</td>\n",
       "      <td>142.251.209.132</td>\n",
       "      <td>443</td>\n",
       "    </tr>\n",
       "    <tr>\n",
       "      <th>1</th>\n",
       "      <td>https://www.facebook.com</td>\n",
       "      <td>0.092280</td>\n",
       "      <td>0.092280</td>\n",
       "      <td>0.071201</td>\n",
       "      <td>0.098314</td>\n",
       "      <td>0.0</td>\n",
       "      <td>0.286127</td>\n",
       "      <td>0.306126</td>\n",
       "      <td>157.240.252.35</td>\n",
       "      <td>443</td>\n",
       "    </tr>\n",
       "    <tr>\n",
       "      <th>2</th>\n",
       "      <td>https://www.youtube.com</td>\n",
       "      <td>0.088254</td>\n",
       "      <td>0.064662</td>\n",
       "      <td>0.054444</td>\n",
       "      <td>0.089367</td>\n",
       "      <td>0.0</td>\n",
       "      <td>0.174466</td>\n",
       "      <td>0.289153</td>\n",
       "      <td>142.251.209.142</td>\n",
       "      <td>443</td>\n",
       "    </tr>\n",
       "    <tr>\n",
       "      <th>3</th>\n",
       "      <td>https://www.googleapis.com</td>\n",
       "      <td>0.034300</td>\n",
       "      <td>0.009475</td>\n",
       "      <td>0.005403</td>\n",
       "      <td>0.035400</td>\n",
       "      <td>0.0</td>\n",
       "      <td>0.147281</td>\n",
       "      <td>0.147385</td>\n",
       "      <td>142.251.209.138</td>\n",
       "      <td>443</td>\n",
       "    </tr>\n",
       "    <tr>\n",
       "      <th>4</th>\n",
       "      <td>https://www.instagram.com</td>\n",
       "      <td>0.029055</td>\n",
       "      <td>0.013187</td>\n",
       "      <td>0.004605</td>\n",
       "      <td>0.029923</td>\n",
       "      <td>0.0</td>\n",
       "      <td>0.214219</td>\n",
       "      <td>0.336100</td>\n",
       "      <td>157.240.252.174</td>\n",
       "      <td>443</td>\n",
       "    </tr>\n",
       "    <tr>\n",
       "      <th>...</th>\n",
       "      <td>...</td>\n",
       "      <td>...</td>\n",
       "      <td>...</td>\n",
       "      <td>...</td>\n",
       "      <td>...</td>\n",
       "      <td>...</td>\n",
       "      <td>...</td>\n",
       "      <td>...</td>\n",
       "      <td>...</td>\n",
       "      <td>...</td>\n",
       "    </tr>\n",
       "    <tr>\n",
       "      <th>995</th>\n",
       "      <td>https://www.google.com.jm</td>\n",
       "      <td>0.227748</td>\n",
       "      <td>0.211538</td>\n",
       "      <td>0.192309</td>\n",
       "      <td>0.229158</td>\n",
       "      <td>0.0</td>\n",
       "      <td>0.295833</td>\n",
       "      <td>0.299376</td>\n",
       "      <td>142.250.181.195</td>\n",
       "      <td>443</td>\n",
       "    </tr>\n",
       "    <tr>\n",
       "      <th>996</th>\n",
       "      <td>https://www.repocket.com</td>\n",
       "      <td>0.043787</td>\n",
       "      <td>0.028749</td>\n",
       "      <td>0.021327</td>\n",
       "      <td>0.044902</td>\n",
       "      <td>0.0</td>\n",
       "      <td>0.071118</td>\n",
       "      <td>0.071261</td>\n",
       "      <td>172.67.139.50</td>\n",
       "      <td>443</td>\n",
       "    </tr>\n",
       "    <tr>\n",
       "      <th>997</th>\n",
       "      <td>https://www.thunderbird.net</td>\n",
       "      <td>0.075817</td>\n",
       "      <td>0.035113</td>\n",
       "      <td>0.026407</td>\n",
       "      <td>0.077077</td>\n",
       "      <td>0.0</td>\n",
       "      <td>0.573514</td>\n",
       "      <td>0.573551</td>\n",
       "      <td>172.67.74.82</td>\n",
       "      <td>443</td>\n",
       "    </tr>\n",
       "    <tr>\n",
       "      <th>998</th>\n",
       "      <td>https://www.bluecava.com</td>\n",
       "      <td>0.111648</td>\n",
       "      <td>0.111648</td>\n",
       "      <td>0.081835</td>\n",
       "      <td>0.116964</td>\n",
       "      <td>0.0</td>\n",
       "      <td>0.155698</td>\n",
       "      <td>0.155743</td>\n",
       "      <td>199.36.158.100</td>\n",
       "      <td>443</td>\n",
       "    </tr>\n",
       "    <tr>\n",
       "      <th>999</th>\n",
       "      <td>https://www.google.cm</td>\n",
       "      <td>0.250427</td>\n",
       "      <td>0.233947</td>\n",
       "      <td>0.212562</td>\n",
       "      <td>0.251689</td>\n",
       "      <td>0.0</td>\n",
       "      <td>0.301081</td>\n",
       "      <td>0.304149</td>\n",
       "      <td>172.217.16.67</td>\n",
       "      <td>443</td>\n",
       "    </tr>\n",
       "  </tbody>\n",
       "</table>\n",
       "<p>1000 rows × 10 columns</p>\n",
       "</div>"
      ]
     },
     "execution_count": 21,
     "metadata": {},
     "output_type": "execute_result"
    }
   ],
   "execution_count": 21
  },
  {
   "metadata": {
    "ExecuteTime": {
     "end_time": "2024-11-13T14:00:04.633640Z",
     "start_time": "2024-11-13T14:00:04.629733Z"
    }
   },
   "cell_type": "code",
   "source": [
    "metrics_keys = [\n",
    "    'time_appconnect',\n",
    "    'time_connect',\n",
    "    'time_namelookup',\n",
    "    'time_pretransfer',\n",
    "    'time_redirect',\n",
    "    'time_starttransfer',\n",
    "    'time_total',\n",
    "    'remote_ip',\n",
    "    'remote_port'\n",
    "]\n",
    "\n",
    "base_command = [\n",
    "    'curl', '--http2',        # Force HTTP/2 over TCP+TLS\n",
    "    '-4',                     # Use IPv4 only\n",
    "    '-o', '/dev/null',        # Discard the actual output, only want metrics\n",
    "    '-s',                     # Silent mode, suppress curl status messages\n",
    "    '--max-time', '5',        # Set connection timeout to 5 seconds\n",
    "    '-w', \"\\\\n\".join([f\"{key}: %{{{key}}}\" for key in metrics_keys]) + \"\\\\n\"  # Get specific metrics\n",
    "]"
   ],
   "id": "7e18d89d2d711fa",
   "outputs": [],
   "execution_count": 22
  },
  {
   "metadata": {
    "ExecuteTime": {
     "end_time": "2024-11-13T14:00:39.361513Z",
     "start_time": "2024-11-13T14:00:06.969928Z"
    }
   },
   "cell_type": "code",
   "source": [
    "results = []\n",
    "errors = []\n",
    "\n",
    "def process_url(row):\n",
    "    url = row['url']\n",
    "    command = base_command + [url]\n",
    "\n",
    "    try:\n",
    "        result = subprocess.run(command, capture_output=True, text=True, check=True)\n",
    "\n",
    "        metrics = {'url': url}\n",
    "        for line in result.stdout.splitlines():\n",
    "            if ': ' in line:\n",
    "                key, val = line.split(': ', 1)\n",
    "                metrics[key.strip()] = val.strip()\n",
    "\n",
    "        return metrics\n",
    "\n",
    "    except subprocess.CalledProcessError as e:\n",
    "        return {\n",
    "            'url': url,\n",
    "            'errorCode': e.returncode,\n",
    "        }\n",
    "\n",
    "with ThreadPoolExecutor(max_workers=10) as executor:\n",
    "    futures = []\n",
    "    for index, row in df_input.iterrows():\n",
    "        futures.append(executor.submit(process_url, row))\n",
    "\n",
    "    for future in tqdm(as_completed(futures), total=len(futures), desc=\"Processing URLs\", leave=True):\n",
    "        try:\n",
    "            data = future.result()\n",
    "            if 'errorCode' in data:\n",
    "                errors.append(data)\n",
    "            else:\n",
    "                results.append(data)\n",
    "        except Exception as e:\n",
    "            errors.append({\n",
    "                'url': data.get('url', 'Unknown'),\n",
    "                'errorCode': str(e),\n",
    "            })"
   ],
   "id": "e49fe19ce5811e38",
   "outputs": [
    {
     "data": {
      "text/plain": [
       "Processing URLs:   0%|          | 0/1000 [00:00<?, ?it/s]"
      ],
      "application/vnd.jupyter.widget-view+json": {
       "version_major": 2,
       "version_minor": 0,
       "model_id": "4c680f68c60a4e618ecf17c6004d4c74"
      }
     },
     "metadata": {},
     "output_type": "display_data"
    }
   ],
   "execution_count": 23
  },
  {
   "metadata": {
    "ExecuteTime": {
     "end_time": "2024-11-13T14:00:50.868578Z",
     "start_time": "2024-11-13T14:00:50.862642Z"
    }
   },
   "cell_type": "code",
   "source": [
    "df_results = pd.DataFrame(results)\n",
    "df_errors= pd.DataFrame(errors)"
   ],
   "id": "659b709fc25fcee8",
   "outputs": [],
   "execution_count": 24
  },
  {
   "metadata": {
    "ExecuteTime": {
     "end_time": "2024-11-13T14:00:51.751920Z",
     "start_time": "2024-11-13T14:00:51.743351Z"
    }
   },
   "cell_type": "code",
   "source": [
    "url_order_dict = {url: idx for idx, url in enumerate(df_input['url'])}\n",
    "\n",
    "df_results['sort_order'] = df_results['url'].map(url_order_dict)\n",
    "df_results_sorted = df_results.sort_values('sort_order').drop(columns=['sort_order']).reset_index(drop=True)\n",
    "\n",
    "df_errors['sort_order'] = df_errors['url'].map(url_order_dict)\n",
    "df_errors_sorted = df_errors.sort_values('sort_order').drop(columns=['sort_order']).reset_index(drop=True)"
   ],
   "id": "589400225d5053fb",
   "outputs": [],
   "execution_count": 25
  },
  {
   "metadata": {
    "ExecuteTime": {
     "end_time": "2024-11-13T14:01:10.840778Z",
     "start_time": "2024-11-13T14:01:10.833463Z"
    }
   },
   "cell_type": "code",
   "source": [
    "df_results_sorted.to_csv(RESULTS_FILE, index=False)\n",
    "df_errors_sorted.to_csv(ERRORS_FILE, index=False)"
   ],
   "id": "e8df61b6a4d40d70",
   "outputs": [],
   "execution_count": 27
  },
  {
   "metadata": {},
   "cell_type": "code",
   "outputs": [],
   "execution_count": null,
   "source": "",
   "id": "a58e0658ffc7ac9b"
  }
 ],
 "metadata": {
  "kernelspec": {
   "display_name": "Python 3",
   "language": "python",
   "name": "python3"
  },
  "language_info": {
   "codemirror_mode": {
    "name": "ipython",
    "version": 2
   },
   "file_extension": ".py",
   "mimetype": "text/x-python",
   "name": "python",
   "nbconvert_exporter": "python",
   "pygments_lexer": "ipython2",
   "version": "2.7.6"
  }
 },
 "nbformat": 4,
 "nbformat_minor": 5
}
