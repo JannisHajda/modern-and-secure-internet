{
 "cells": [
  {
   "cell_type": "code",
   "id": "initial_id",
   "metadata": {
    "collapsed": true,
    "ExecuteTime": {
     "end_time": "2024-11-12T14:45:56.143007Z",
     "start_time": "2024-11-12T14:45:55.887804Z"
    }
   },
   "source": "import pandas as pd",
   "outputs": [],
   "execution_count": 1
  },
  {
   "metadata": {
    "ExecuteTime": {
     "end_time": "2024-11-12T14:49:57.059287Z",
     "start_time": "2024-11-12T14:49:57.056912Z"
    }
   },
   "cell_type": "code",
   "source": [
    "INPUT_FILE = './top-1m.csv'\n",
    "OUTPUT_FILE = './top-10k-preprocessed.csv'"
   ],
   "id": "648f20f540fd6e28",
   "outputs": [],
   "execution_count": 10
  },
  {
   "metadata": {
    "ExecuteTime": {
     "end_time": "2024-11-12T14:48:03.795761Z",
     "start_time": "2024-11-12T14:48:03.274610Z"
    }
   },
   "cell_type": "code",
   "source": [
    "df_input = pd.read_csv(INPUT_FILE, names=['index', 'url']).drop('index', axis=1)\n",
    "df_input"
   ],
   "id": "919885b980f875a",
   "outputs": [
    {
     "data": {
      "text/plain": [
       "                       url\n",
       "0               google.com\n",
       "1            microsoft.com\n",
       "2             facebook.com\n",
       "3            amazonaws.com\n",
       "4         root-servers.net\n",
       "...                    ...\n",
       "999995            kspag.de\n",
       "999996       yztianyou.com\n",
       "999997   fitgirlrepacks.co\n",
       "999998          roglebk.se\n",
       "999999  verkehrsinfo-bw.de\n",
       "\n",
       "[1000000 rows x 1 columns]"
      ],
      "text/html": [
       "<div>\n",
       "<style scoped>\n",
       "    .dataframe tbody tr th:only-of-type {\n",
       "        vertical-align: middle;\n",
       "    }\n",
       "\n",
       "    .dataframe tbody tr th {\n",
       "        vertical-align: top;\n",
       "    }\n",
       "\n",
       "    .dataframe thead th {\n",
       "        text-align: right;\n",
       "    }\n",
       "</style>\n",
       "<table border=\"1\" class=\"dataframe\">\n",
       "  <thead>\n",
       "    <tr style=\"text-align: right;\">\n",
       "      <th></th>\n",
       "      <th>url</th>\n",
       "    </tr>\n",
       "  </thead>\n",
       "  <tbody>\n",
       "    <tr>\n",
       "      <th>0</th>\n",
       "      <td>google.com</td>\n",
       "    </tr>\n",
       "    <tr>\n",
       "      <th>1</th>\n",
       "      <td>microsoft.com</td>\n",
       "    </tr>\n",
       "    <tr>\n",
       "      <th>2</th>\n",
       "      <td>facebook.com</td>\n",
       "    </tr>\n",
       "    <tr>\n",
       "      <th>3</th>\n",
       "      <td>amazonaws.com</td>\n",
       "    </tr>\n",
       "    <tr>\n",
       "      <th>4</th>\n",
       "      <td>root-servers.net</td>\n",
       "    </tr>\n",
       "    <tr>\n",
       "      <th>...</th>\n",
       "      <td>...</td>\n",
       "    </tr>\n",
       "    <tr>\n",
       "      <th>999995</th>\n",
       "      <td>kspag.de</td>\n",
       "    </tr>\n",
       "    <tr>\n",
       "      <th>999996</th>\n",
       "      <td>yztianyou.com</td>\n",
       "    </tr>\n",
       "    <tr>\n",
       "      <th>999997</th>\n",
       "      <td>fitgirlrepacks.co</td>\n",
       "    </tr>\n",
       "    <tr>\n",
       "      <th>999998</th>\n",
       "      <td>roglebk.se</td>\n",
       "    </tr>\n",
       "    <tr>\n",
       "      <th>999999</th>\n",
       "      <td>verkehrsinfo-bw.de</td>\n",
       "    </tr>\n",
       "  </tbody>\n",
       "</table>\n",
       "<p>1000000 rows × 1 columns</p>\n",
       "</div>"
      ]
     },
     "execution_count": 8,
     "metadata": {},
     "output_type": "execute_result"
    }
   ],
   "execution_count": 8
  },
  {
   "metadata": {
    "ExecuteTime": {
     "end_time": "2024-11-12T14:49:32.948241Z",
     "start_time": "2024-11-12T14:49:32.844285Z"
    }
   },
   "cell_type": "code",
   "source": [
    "df_www = df_input.copy()\n",
    "df_www = df_www.iloc[:10000]\n",
    "df_www['url'] = 'https://www.' + df_www['url']\n",
    "df_www"
   ],
   "id": "d1a3084ee8266138",
   "outputs": [
    {
     "data": {
      "text/plain": [
       "                           url\n",
       "0               www.google.com\n",
       "1            www.microsoft.com\n",
       "2             www.facebook.com\n",
       "3            www.amazonaws.com\n",
       "4         www.root-servers.net\n",
       "...                        ...\n",
       "999995            www.kspag.de\n",
       "999996       www.yztianyou.com\n",
       "999997   www.fitgirlrepacks.co\n",
       "999998          www.roglebk.se\n",
       "999999  www.verkehrsinfo-bw.de\n",
       "\n",
       "[1000000 rows x 1 columns]"
      ],
      "text/html": [
       "<div>\n",
       "<style scoped>\n",
       "    .dataframe tbody tr th:only-of-type {\n",
       "        vertical-align: middle;\n",
       "    }\n",
       "\n",
       "    .dataframe tbody tr th {\n",
       "        vertical-align: top;\n",
       "    }\n",
       "\n",
       "    .dataframe thead th {\n",
       "        text-align: right;\n",
       "    }\n",
       "</style>\n",
       "<table border=\"1\" class=\"dataframe\">\n",
       "  <thead>\n",
       "    <tr style=\"text-align: right;\">\n",
       "      <th></th>\n",
       "      <th>url</th>\n",
       "    </tr>\n",
       "  </thead>\n",
       "  <tbody>\n",
       "    <tr>\n",
       "      <th>0</th>\n",
       "      <td>www.google.com</td>\n",
       "    </tr>\n",
       "    <tr>\n",
       "      <th>1</th>\n",
       "      <td>www.microsoft.com</td>\n",
       "    </tr>\n",
       "    <tr>\n",
       "      <th>2</th>\n",
       "      <td>www.facebook.com</td>\n",
       "    </tr>\n",
       "    <tr>\n",
       "      <th>3</th>\n",
       "      <td>www.amazonaws.com</td>\n",
       "    </tr>\n",
       "    <tr>\n",
       "      <th>4</th>\n",
       "      <td>www.root-servers.net</td>\n",
       "    </tr>\n",
       "    <tr>\n",
       "      <th>...</th>\n",
       "      <td>...</td>\n",
       "    </tr>\n",
       "    <tr>\n",
       "      <th>999995</th>\n",
       "      <td>www.kspag.de</td>\n",
       "    </tr>\n",
       "    <tr>\n",
       "      <th>999996</th>\n",
       "      <td>www.yztianyou.com</td>\n",
       "    </tr>\n",
       "    <tr>\n",
       "      <th>999997</th>\n",
       "      <td>www.fitgirlrepacks.co</td>\n",
       "    </tr>\n",
       "    <tr>\n",
       "      <th>999998</th>\n",
       "      <td>www.roglebk.se</td>\n",
       "    </tr>\n",
       "    <tr>\n",
       "      <th>999999</th>\n",
       "      <td>www.verkehrsinfo-bw.de</td>\n",
       "    </tr>\n",
       "  </tbody>\n",
       "</table>\n",
       "<p>1000000 rows × 1 columns</p>\n",
       "</div>"
      ]
     },
     "execution_count": 9,
     "metadata": {},
     "output_type": "execute_result"
    }
   ],
   "execution_count": 9
  },
  {
   "metadata": {
    "ExecuteTime": {
     "end_time": "2024-11-12T14:50:08.164408Z",
     "start_time": "2024-11-12T14:50:07.450845Z"
    }
   },
   "cell_type": "code",
   "source": "df_www.to_csv(OUTPUT_FILE, index=False)",
   "id": "a95e056c6d5ff54c",
   "outputs": [],
   "execution_count": 11
  },
  {
   "metadata": {},
   "cell_type": "code",
   "outputs": [],
   "execution_count": null,
   "source": "",
   "id": "f65a5c1c5b794ec2"
  }
 ],
 "metadata": {
  "kernelspec": {
   "display_name": "Python 3",
   "language": "python",
   "name": "python3"
  },
  "language_info": {
   "codemirror_mode": {
    "name": "ipython",
    "version": 2
   },
   "file_extension": ".py",
   "mimetype": "text/x-python",
   "name": "python",
   "nbconvert_exporter": "python",
   "pygments_lexer": "ipython2",
   "version": "2.7.6"
  }
 },
 "nbformat": 4,
 "nbformat_minor": 5
}
